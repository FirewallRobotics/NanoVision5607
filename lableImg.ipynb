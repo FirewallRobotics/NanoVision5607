{
  "nbformat": 4,
  "nbformat_minor": 0,
  "metadata": {
    "colab": {
      "name": "lableImg.ipynb",
      "provenance": [],
      "authorship_tag": "ABX9TyPr23KjTbeu5Q4qm3R0wn/H",
      "include_colab_link": true
    },
    "kernelspec": {
      "name": "python3",
      "display_name": "Python 3"
    }
  },
  "cells": [
    {
      "cell_type": "markdown",
      "metadata": {
        "id": "view-in-github",
        "colab_type": "text"
      },
      "source": [
        "<a href=\"https://colab.research.google.com/github/FirewallRobotics/NanoVision5607/blob/master/lableImg.ipynb\" target=\"_parent\"><img src=\"https://colab.research.google.com/assets/colab-badge.svg\" alt=\"Open In Colab\"/></a>"
      ]
    },
    {
      "cell_type": "code",
      "metadata": {
        "id": "yIDp0GaEoq24"
      },
      "source": [
        ""
      ],
      "execution_count": null,
      "outputs": []
    },
    {
      "cell_type": "markdown",
      "metadata": {
        "id": "mLd7w3VgouGx"
      },
      "source": [
        "Follow instructions for your platform:\n",
        "ALL:  git clone https://github.com/tzutalin/labelImg.git\n",
        "Linux:\n",
        "!cd labelImg && \\\n",
        "pip3 install -r requirements/requirements-linux-python3.txt && \\\n",
        "make qt5py3 && \\\n",
        "python3 labelImg.py"
      ]
    },
    {
      "cell_type": "markdown",
      "metadata": {
        "id": "IQ1kALFMpMsQ"
      },
      "source": [
        "All:\n"
      ]
    },
    {
      "cell_type": "code",
      "metadata": {
        "id": "YrL-oSsopOpC"
      },
      "source": [
        "!git clone https://github.com/tzutalin/labelImg.git"
      ],
      "execution_count": null,
      "outputs": []
    },
    {
      "cell_type": "markdown",
      "metadata": {
        "id": "Mh19wgvGo-LN"
      },
      "source": [
        "Linux:"
      ]
    },
    {
      "cell_type": "code",
      "metadata": {
        "id": "3OZ3qLoNo69g"
      },
      "source": [
        "\n",
        "!apt-get install pyqt5-dev-tools\n",
        "!cd labelImg && \\\n",
        "    pip3 install -r requirements/requirements-linux-python3.txt && \\\n",
        "    make qt5py3 && \\\n",
        "    python3 labelImg.py"
      ],
      "execution_count": null,
      "outputs": []
    },
    {
      "cell_type": "markdown",
      "metadata": {
        "id": "7NFyNbampV3e"
      },
      "source": [
        "Mac:"
      ]
    },
    {
      "cell_type": "code",
      "metadata": {
        "id": "wOAgsaAgpX9C"
      },
      "source": [
        "!brew install qt  # Install qt-5.x.x by Homebrew\n",
        "!brew install libxml2\n",
        "!cd labelImg && \\\n",
        "     make qt5py3 \\\n",
        "     python3 labelImg.py"
      ],
      "execution_count": null,
      "outputs": []
    }
  ]
}